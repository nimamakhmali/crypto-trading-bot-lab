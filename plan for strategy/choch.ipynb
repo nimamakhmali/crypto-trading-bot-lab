{
 "cells": [
  {
   "cell_type": "markdown",
   "id": "a968c0cf",
   "metadata": {},
   "source": [
    "### package & fetch datas"
   ]
  },
  {
   "cell_type": "code",
   "execution_count": 31,
   "id": "495e1ea6",
   "metadata": {},
   "outputs": [],
   "source": [
    "import pandas as pd\n",
    "import pandas_ta as ta\n",
    "import numpy as np\n",
    "import plotly.graph_objects as go\n",
    "from scipy import stats\n",
    "\n",
    "df = pd.read_csv(\"fake_data.csv\")\n",
    "df = df[df['volume']!=0]\n",
    "df.reset_index(drop=True, inplace=True)\n",
    "df['RSI'] = ta.rsi(df.close, length=14)\n",
    "df['EMA'] = ta.ema(df.close, length=150)\n",
    "df.tail()\n",
    "df=df[:5000]"
   ]
  },
  {
   "cell_type": "markdown",
   "id": "61617398",
   "metadata": {},
   "source": [
    "### Set Trend"
   ]
  },
  {
   "cell_type": "code",
   "execution_count": 32,
   "id": "27ee9b98",
   "metadata": {},
   "outputs": [],
   "source": [
    "ema_signal = [0]*len(df)\n",
    "history_candles = 15\n",
    "\n",
    "for row in range(history_candles, len(df)):\n",
    "    up = 1\n",
    "    down = 1\n",
    "    for i in range(row-history_candles, row+1):\n",
    "        if max(df.open[i], df.close[i]) >= df.EMA[i]:\n",
    "            down = 0\n",
    "        if min(df.open[i], df.close[i]) <= df.EMA[i]:\n",
    "            up = 0\n",
    "    if up == 1 & down == 1:\n",
    "        ema_signal[row] = 3\n",
    "    elif up == 1:\n",
    "        ema_signal[row] == 2   \n",
    "    elif down == 1:\n",
    "        ema_signal[row] = 1\n",
    "                 \n",
    "df[\"ema_signal\"] = ema_signal                "
   ]
  },
  {
   "cell_type": "code",
   "execution_count": 33,
   "id": "60ddae6c",
   "metadata": {},
   "outputs": [],
   "source": [
    "def isPivot(candle, window):\n",
    "    if candle - window < 0 or candle + window >= len(df):\n",
    "        return 0\n",
    "    high_pivot = 1\n",
    "    low_pivot = 2\n",
    "    for i in range(candle - window, candle + window + 1):\n",
    "        if df.iloc[candle].low > df.iloc[i].low:\n",
    "            low_pivot = 0\n",
    "        if df.iloc[candle].high < df.iloc[i].high:\n",
    "            high_pivot = 0\n",
    "    if (high_pivot & low_pivot):\n",
    "        return 3\n",
    "    elif high_pivot:\n",
    "        return high_pivot\n",
    "    elif low_pivot:\n",
    "        return low_pivot\n",
    "    else:\n",
    "        return 0\n",
    "                "
   ]
  },
  {
   "cell_type": "code",
   "execution_count": 34,
   "id": "0bb1a6a4",
   "metadata": {},
   "outputs": [],
   "source": [
    "window = 15\n",
    "df['isPivot'] = df.apply(lambda x: isPivot(x.name, window), axis = 1)"
   ]
  },
  {
   "cell_type": "code",
   "execution_count": 35,
   "id": "64bc09bb",
   "metadata": {},
   "outputs": [],
   "source": [
    "def point_position(x):\n",
    "    if x['isPivot'] == 2:\n",
    "        return x['low'] - 1e-3\n",
    "    elif x['isPivot'] == 1:\n",
    "        return x['high'] + 1e-3\n",
    "    else:\n",
    "        return np.nan\n",
    "df['point_position'] = df.apply(lambda row: point_position(row), axis = 1)    "
   ]
  },
  {
   "cell_type": "code",
   "execution_count": 36,
   "id": "43984753",
   "metadata": {},
   "outputs": [
    {
     "data": {
      "application/vnd.plotly.v1+json": {
       "config": {
        "plotlyServerURL": "https://plot.ly"
       },
       "data": [
        {
         "close": {
          "bdata": "s14M5US78j/WrZ6T3rfyP9RlMbH5uPI/sacd/pqs8j9aEqCmlq3yP4YgByXMtPI/J4Oj5NW58j9K0jWTb7byPzIDlfHvs/I/rkfhehSu8j9YyjLEsa7yP/0TXKyowfI/jX+fceHA8j9HWipvR7jyP1Sp2QOtwPI/73IR34nZ8j+uDRXj/M3yP482jliLz/I/R8mrcwzI8j/3OxQF+sTyPw7z5QXYx/I/RpkNMsnI8j/opPeNr73yP86luKrsu/I/d/hrska98j95QNmUK7zyP+oENBE2vPI/PQrXo3C98j+PxwxUxr/yPzJaR1UTxPI/xT2WPnTB8j8dA7LXu7/yP3E486s5wPI/29yYnrDE8j8ng6Pk1bnyP7JGPUSju/I/yhXe5SK+8j90mC8vwL7yP0BqEyf3u/I/ndfYJaq38j9HWipvR7jyPzkLe9rhr/I//+xHisiw8j8yA5Xx77PyPxkEVg4tsvI/rRdDOdGu8j9aKm9HOK3yPwhVavZAq/I/QSswZHWr8j/l7QinBa/yP+vFUE60q/I/Bg39E1ys8j8nFCLgEKryP842N6YnrPI/rkfhehSu8j/rHAOy17vyP7NeDOVEu/I/6xwDste78j9+GCE82rjyP6neGtgqwfI/z72HS4678j9kQPZ698fyPz55WKg1zfI/pwUv+grS8j850a5Cys/yPx+6oL5lzvI/by9pjNbR8j89YYkHlM3yP+gTeZJ0zfI/V3iXi/jO8j9jKCfaVcjyP8y0/SsrzfI/y4Rf6ufN8j9WSPlJtc/yP1nABG7dzfI/0VynkZbK8j8JG55eKcvyP2CwG7YtyvI/xsTm49rQ8j8A4xk09M/yPxZqTfOO0/I/MbH5uDbU8j/jqrLviuDyPxsS91j60PI/7uvAOSPK8j8o8iTpmsnyPyfChqdXyvI/5US7Cim/8j+rJoi6D8DyP2tgqwSLw/I/NSkF3V7S8j8a+ie4WNHyP8f0hCUe0PI/UrgehevR8j/FrBdDOdHyP4f+CS5W1PI/4QuTqYLR8j+G5jqNtNTyP6JFtvP91PI//8pKk1LQ8j9XYMjqVs/yPzdxcr9D0fI//7J78rDQ8j9SuB6F69HyP9szSwLU1PI/GeJYF7fR8j/A7J48LNTyP0loy7kU1/I/gA7z5QXY8j+kpfJ2hNPyP+lDF9S3zPI/yTzyBwPP8j9DkIMSZtryPxyxFp8C4PI/tcNfkzXq8j+scwzIXu/yP3nMQGX8+/I/lltaDYn78j9g5dAi2/nyPwEwnkFD//I/xyk6ksv/8j//5zBfXgDzP6uy74rg//I/Ed+JWS8G8z+hSs0eaAXzPxaHM7+aA/M/ATCeQUP/8j+vQspPqv3yP1r1udqK/fI/sYo3Mo/88j+pwTQMHxHzPyv2l92TB/M/2jhiLT4F8z8DeAskKP7yP8lxp3Sw/vI/CVBTy9b68j/VITfDDfjyP4Hs9e6P9/I/Nh/Xhorx8j86r7FLVO/yPxh47j1c8vI/xqLp7GTw8j+to6oJou7yPyegibDh6fI/twvNdRrp8j/xETElkujyP5YEqKll6/I/Wp4Hd2ft8j9bzqW4quzyPx+A1CZO7vI/pYP1fw7z8j+ny2Ji8/HyP5+T3je+9vI/8piByvj38j/LSpNS0O3yP2yVYHE48/I/UDblCu/y8j9mZmZmZubyPyTRyyiW2/I/gSbChqfX8j/y6hwDstfyP9lCkIMS5vI/v0NRoE/k8j8OoUrNHujyP588LNSa5vI/x0s3iUHg8j+THRuBeN3yP2FPO/w12fI/t7QaEvfY8j/RyyiWW9ryP/CK4H8r2fI/1nPS+8bX8j/Pg7uzdtvyP+UK73IR3/I/ke18PzXe8j89uDtrt93yP+z6Bbth2/I//YLdsG3R8j/+mqxRD9HyP1iQZiyazvI/jq89syTA8j9seHqlLMPyP2PRdHYyuPI/KxN+qZ+38j+p9ul4zMDyPzMbZJKRs/I/0QX1LXO68j/EzhQ6r7HyP3L5D+m3r/I/F9S3zOmy8j9uUWaDTLLyP4hodAexs/I/qrcGtkqw8j9wsaIG07DyP8cuUb01sPI/l6jeGtiq8j8qjC0EOajyP3Wr56T3jfI/oblOIy2V8j8J/reSHZvyP9hHp658lvI/NJ2dDI6S8j9KJNHLKJbyP+o+AKlNnPI/U7MHWoGh8j+Zgcr495nyP0lL5e0Ip/I/H5268lme8j8dVU0QdZ/yPx7EzhQ6r/I/5L1qZcKv8j/b3JiesMTyP07RkVz+w/I/6LzGLlG98j+P39v0Z7/yPwB0mC8vwPI/xm00gLfA8j/ulA7W/7nyP18pyxDHuvI/qfbpeMzA8j+JB5RNucLyP1Sp2QOtwPI//RNcrKjB8j/SHcTOFLryPw1Uxr/PuPI/0jWTb7a58j8WpBmLprPyP78OnDOitPI/FqQZi6az8j9UOlj/57DyPxQF+kSepPI/V0PiHkuf8j+jQJ/Ik6TyP35S7dPxmPI/v2A3bFuU8j+Rm+EGfH7yP0mFsYUgh/I/uRluwOeH8j8Ab4EExY/yP72pSIWxhfI/L26jAbyF8j/wp8ZLN4nyP0mdgCbChvI/MuauJeSD8j83jliLT4HyP0mdgCbChvI/e2tgqwSL8j+Y+nlTkYryP0c9RKM7iPI/pvJ2hNOC8j+2uTE9YYnyP/dY+tAFdfI/jIS2nEtx8j9slWBxOHPyP9dppKXydvI/DhDM0eN38j/qCUs8oGzyP1J+Uu3TcfI/8YCyKVd48j92VDVB1H3yP3QMyF7vfvI/l4v4Tsx68j+fk943vnbyPwpoImx4evI/J/c7FAV68j8KaCJseHryP51LcVXZd/I/f6SIDKt48j8qb0c4LXjyP0SGVbyRefI/lltaDYl78j+xogbTMHzyP+p4zEBlfPI/odtLGqN18j/04O6s3XbyP7ByaJHtfPI/UtUEUfeB8j/G4cyv5oDyP4czv5oDhPI/Akht4uR+8j/XUdUEUXfyP6/rF+yGbfI/pOTVOQZk8j9Wt3pOel/yP4rlllZDYvI/1IIXfQVp8j8HmWTkLGzyP5usUQ/RaPI/CfmgZ7Nq8j8w8Nx7uGTyP7ubpzrkZvI/Zk6XxcRm8j8NcayL22jyPyi4WFGDafI/sBu2Lcps8j90tRX7y27yP7g7a7ddaPI/R4/f2/Rn8j/LSpNS0G3yP3XlszwPbvI/yhr1EI1u8j/2QCswZHXyP02+2ebGdPI/r1qZ8Et98j+xijcyj3zyP3CUvDrHgPI/J2a9GMqJ8j9381SH3IzyP5WCbi9pjPI/ZY16iEZ38j/ayeAoeXXyPxKgppatdfI/+aBns+pz8j+FfNCzWXXyP4fEPZY+dPI/dLUV+8tu8j9n1edqK3byP7+CNGPRdPI/TKYKRiV18j+qK5/leXDyP667eapDbvI/zsKedvhr8j9hjh6/t2nyP1yPwvUoXPI/fsaFAyFZ8j+iRbbz/VTyP8y0/SsrTfI/6BN5knRN8j/lszwP7k7yPx+i0R3ETvI/t11ortNI8j9z1xLyQU/yP7KFIAclTPI/YhBYObRI8j9P6WD9n0PyP9hkjXqIRvI/vTWwVYJF8j9miGNd3EbyP0j5SbVPR/I/Jqq3BrZK8j/vA5DaxEnyPwRz9Pi9TfI/U+i8xi5R8j84oRABh1DyPz+p9ul4TPI/0XR2MjhK8j8YQznRrkLyP90kBoGVQ/I/bsDnhxFC8j80orQ3+ELyP6Cmlq31RfI/THFV2XdF8j92Tx4Wak3yP4Ln3sMlR/I/MlpHVRNE8j+LTwEwnkHyP4Ln3sMlR/I/TaHzGrtE8j+77UJznUbyPyfChqdXSvI/YhBYObRI8j8sms5OBkfyPxcrajANQ/I/vAUSFD9G8j9FgT6RJ0nyP1+YTBWMSvI/QfFjzF1L8j8kYkok0UvyP35v05/9SPI/s82N6QlL8j/BHD1+b1PyPwyTqYJRSfI/NdJSeTtC8j9KQbeXNEbyP2RA9nr3R/I/EDtT6LxG8j850a5Cyk/yPwYSFD/GXPI/hA1Pr5Rl8j9Y/+cwX17yP+hqK/aXXfI/p1zhXS5i8j+ZZOQs7GnyP4KtEiwOZ/I/OZfiqrJv8j91zeSbbW7yP3cVUn5SbfI/qkNuhhtw8j8HmWTkLGzyPwLZ690fb/I/B7Ezhc5r8j/lYaHWNG/yP8/abReaa/I/Atnr3R9v8j/b+X5qvHTyP8ISDyibcvI/lltaDYl78j/SqSuf5XnyPw74/DBCePI/++jUlc9y8j8=",
          "dtype": "f8"
         },
         "high": {
          "bdata": "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",
          "dtype": "f8"
         },
         "low": {
          "bdata": "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",
          "dtype": "f8"
         },
         "open": {
          "bdata": "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",
          "dtype": "f8"
         },
         "type": "candlestick",
         "x": {
          "bdata": "WAJZAloCWwJcAl0CXgJfAmACYQJiAmMCZAJlAmYCZwJoAmkCagJrAmwCbQJuAm8CcAJxAnICcwJ0AnUCdgJ3AngCeQJ6AnsCfAJ9An4CfwKAAoECggKDAoQChQKGAocCiAKJAooCiwKMAo0CjgKPApACkQKSApMClAKVApYClwKYApkCmgKbApwCnQKeAp8CoAKhAqICowKkAqUCpgKnAqgCqQKqAqsCrAKtAq4CrwKwArECsgKzArQCtQK2ArcCuAK5AroCuwK8Ar0CvgK/AsACwQLCAsMCxALFAsYCxwLIAskCygLLAswCzQLOAs8C0ALRAtIC0wLUAtUC1gLXAtgC2QLaAtsC3ALdAt4C3wLgAuEC4gLjAuQC5QLmAucC6ALpAuoC6wLsAu0C7gLvAvAC8QLyAvMC9AL1AvYC9wL4AvkC+gL7AvwC/QL+Av8CAAMBAwIDAwMEAwUDBgMHAwgDCQMKAwsDDAMNAw4DDwMQAxEDEgMTAxQDFQMWAxcDGAMZAxoDGwMcAx0DHgMfAyADIQMiAyMDJAMlAyYDJwMoAykDKgMrAywDLQMuAy8DMAMxAzIDMwM0AzUDNgM3AzgDOQM6AzsDPAM9Az4DPwNAA0EDQgNDA0QDRQNGA0cDSANJA0oDSwNMA00DTgNPA1ADUQNSA1MDVANVA1YDVwNYA1kDWgNbA1wDXQNeA18DYANhA2IDYwNkA2UDZgNnA2gDaQNqA2sDbANtA24DbwNwA3EDcgNzA3QDdQN2A3cDeAN5A3oDewN8A30DfgN/A4ADgQOCA4MDhAOFA4YDhwOIA4kDigOLA4wDjQOOA48DkAORA5IDkwOUA5UDlgOXA5gDmQOaA5sDnAOdA54DnwOgA6EDogOjA6QDpQOmA6cDqAOpA6oDqwOsA60DrgOvA7ADsQOyA7MDtAO1A7YDtwO4A7kDugO7A7wDvQO+A78DwAPBA8IDwwPEA8UDxgPHA8gDyQPKA8sDzAPNA84DzwPQA9ED0gPTA9QD1QPWA9cD2APZA9oD2wPcA90D3gPfA+AD4QPiA+MD5APlA+YD5wM=",
          "dtype": "i2"
         }
        },
        {
         "marker": {
          "color": "MediumPurple",
          "size": 5
         },
         "mode": "markers",
         "name": "pivot",
         "type": "scatter",
         "x": {
          "bdata": "WAJZAloCWwJcAl0CXgJfAmACYQJiAmMCZAJlAmYCZwJoAmkCagJrAmwCbQJuAm8CcAJxAnICcwJ0AnUCdgJ3AngCeQJ6AnsCfAJ9An4CfwKAAoECggKDAoQChQKGAocCiAKJAooCiwKMAo0CjgKPApACkQKSApMClAKVApYClwKYApkCmgKbApwCnQKeAp8CoAKhAqICowKkAqUCpgKnAqgCqQKqAqsCrAKtAq4CrwKwArECsgKzArQCtQK2ArcCuAK5AroCuwK8Ar0CvgK/AsACwQLCAsMCxALFAsYCxwLIAskCygLLAswCzQLOAs8C0ALRAtIC0wLUAtUC1gLXAtgC2QLaAtsC3ALdAt4C3wLgAuEC4gLjAuQC5QLmAucC6ALpAuoC6wLsAu0C7gLvAvAC8QLyAvMC9AL1AvYC9wL4AvkC+gL7AvwC/QL+Av8CAAMBAwIDAwMEAwUDBgMHAwgDCQMKAwsDDAMNAw4DDwMQAxEDEgMTAxQDFQMWAxcDGAMZAxoDGwMcAx0DHgMfAyADIQMiAyMDJAMlAyYDJwMoAykDKgMrAywDLQMuAy8DMAMxAzIDMwM0AzUDNgM3AzgDOQM6AzsDPAM9Az4DPwNAA0EDQgNDA0QDRQNGA0cDSANJA0oDSwNMA00DTgNPA1ADUQNSA1MDVANVA1YDVwNYA1kDWgNbA1wDXQNeA18DYANhA2IDYwNkA2UDZgNnA2gDaQNqA2sDbANtA24DbwNwA3EDcgNzA3QDdQN2A3cDeAN5A3oDewN8A30DfgN/A4ADgQOCA4MDhAOFA4YDhwOIA4kDigOLA4wDjQOOA48DkAORA5IDkwOUA5UDlgOXA5gDmQOaA5sDnAOdA54DnwOgA6EDogOjA6QDpQOmA6cDqAOpA6oDqwOsA60DrgOvA7ADsQOyA7MDtAO1A7YDtwO4A7kDugO7A7wDvQO+A78DwAPBA8IDwwPEA8UDxgPHA8gDyQPKA8sDzAPNA84DzwPQA9ED0gPTA9QD1QPWA9cD2APZA9oD2wPcA90D3gPfA+AD4QPiA+MD5APlA+YD5wM=",
          "dtype": "i2"
         },
         "y": {
          "bdata": "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",
          "dtype": "f8"
         }
        }
       ],
       "layout": {
        "template": {
         "data": {
          "bar": [
           {
            "error_x": {
             "color": "#2a3f5f"
            },
            "error_y": {
             "color": "#2a3f5f"
            },
            "marker": {
             "line": {
              "color": "#E5ECF6",
              "width": 0.5
             },
             "pattern": {
              "fillmode": "overlay",
              "size": 10,
              "solidity": 0.2
             }
            },
            "type": "bar"
           }
          ],
          "barpolar": [
           {
            "marker": {
             "line": {
              "color": "#E5ECF6",
              "width": 0.5
             },
             "pattern": {
              "fillmode": "overlay",
              "size": 10,
              "solidity": 0.2
             }
            },
            "type": "barpolar"
           }
          ],
          "carpet": [
           {
            "aaxis": {
             "endlinecolor": "#2a3f5f",
             "gridcolor": "white",
             "linecolor": "white",
             "minorgridcolor": "white",
             "startlinecolor": "#2a3f5f"
            },
            "baxis": {
             "endlinecolor": "#2a3f5f",
             "gridcolor": "white",
             "linecolor": "white",
             "minorgridcolor": "white",
             "startlinecolor": "#2a3f5f"
            },
            "type": "carpet"
           }
          ],
          "choropleth": [
           {
            "colorbar": {
             "outlinewidth": 0,
             "ticks": ""
            },
            "type": "choropleth"
           }
          ],
          "contour": [
           {
            "colorbar": {
             "outlinewidth": 0,
             "ticks": ""
            },
            "colorscale": [
             [
              0,
              "#0d0887"
             ],
             [
              0.1111111111111111,
              "#46039f"
             ],
             [
              0.2222222222222222,
              "#7201a8"
             ],
             [
              0.3333333333333333,
              "#9c179e"
             ],
             [
              0.4444444444444444,
              "#bd3786"
             ],
             [
              0.5555555555555556,
              "#d8576b"
             ],
             [
              0.6666666666666666,
              "#ed7953"
             ],
             [
              0.7777777777777778,
              "#fb9f3a"
             ],
             [
              0.8888888888888888,
              "#fdca26"
             ],
             [
              1,
              "#f0f921"
             ]
            ],
            "type": "contour"
           }
          ],
          "contourcarpet": [
           {
            "colorbar": {
             "outlinewidth": 0,
             "ticks": ""
            },
            "type": "contourcarpet"
           }
          ],
          "heatmap": [
           {
            "colorbar": {
             "outlinewidth": 0,
             "ticks": ""
            },
            "colorscale": [
             [
              0,
              "#0d0887"
             ],
             [
              0.1111111111111111,
              "#46039f"
             ],
             [
              0.2222222222222222,
              "#7201a8"
             ],
             [
              0.3333333333333333,
              "#9c179e"
             ],
             [
              0.4444444444444444,
              "#bd3786"
             ],
             [
              0.5555555555555556,
              "#d8576b"
             ],
             [
              0.6666666666666666,
              "#ed7953"
             ],
             [
              0.7777777777777778,
              "#fb9f3a"
             ],
             [
              0.8888888888888888,
              "#fdca26"
             ],
             [
              1,
              "#f0f921"
             ]
            ],
            "type": "heatmap"
           }
          ],
          "histogram": [
           {
            "marker": {
             "pattern": {
              "fillmode": "overlay",
              "size": 10,
              "solidity": 0.2
             }
            },
            "type": "histogram"
           }
          ],
          "histogram2d": [
           {
            "colorbar": {
             "outlinewidth": 0,
             "ticks": ""
            },
            "colorscale": [
             [
              0,
              "#0d0887"
             ],
             [
              0.1111111111111111,
              "#46039f"
             ],
             [
              0.2222222222222222,
              "#7201a8"
             ],
             [
              0.3333333333333333,
              "#9c179e"
             ],
             [
              0.4444444444444444,
              "#bd3786"
             ],
             [
              0.5555555555555556,
              "#d8576b"
             ],
             [
              0.6666666666666666,
              "#ed7953"
             ],
             [
              0.7777777777777778,
              "#fb9f3a"
             ],
             [
              0.8888888888888888,
              "#fdca26"
             ],
             [
              1,
              "#f0f921"
             ]
            ],
            "type": "histogram2d"
           }
          ],
          "histogram2dcontour": [
           {
            "colorbar": {
             "outlinewidth": 0,
             "ticks": ""
            },
            "colorscale": [
             [
              0,
              "#0d0887"
             ],
             [
              0.1111111111111111,
              "#46039f"
             ],
             [
              0.2222222222222222,
              "#7201a8"
             ],
             [
              0.3333333333333333,
              "#9c179e"
             ],
             [
              0.4444444444444444,
              "#bd3786"
             ],
             [
              0.5555555555555556,
              "#d8576b"
             ],
             [
              0.6666666666666666,
              "#ed7953"
             ],
             [
              0.7777777777777778,
              "#fb9f3a"
             ],
             [
              0.8888888888888888,
              "#fdca26"
             ],
             [
              1,
              "#f0f921"
             ]
            ],
            "type": "histogram2dcontour"
           }
          ],
          "mesh3d": [
           {
            "colorbar": {
             "outlinewidth": 0,
             "ticks": ""
            },
            "type": "mesh3d"
           }
          ],
          "parcoords": [
           {
            "line": {
             "colorbar": {
              "outlinewidth": 0,
              "ticks": ""
             }
            },
            "type": "parcoords"
           }
          ],
          "pie": [
           {
            "automargin": true,
            "type": "pie"
           }
          ],
          "scatter": [
           {
            "fillpattern": {
             "fillmode": "overlay",
             "size": 10,
             "solidity": 0.2
            },
            "type": "scatter"
           }
          ],
          "scatter3d": [
           {
            "line": {
             "colorbar": {
              "outlinewidth": 0,
              "ticks": ""
             }
            },
            "marker": {
             "colorbar": {
              "outlinewidth": 0,
              "ticks": ""
             }
            },
            "type": "scatter3d"
           }
          ],
          "scattercarpet": [
           {
            "marker": {
             "colorbar": {
              "outlinewidth": 0,
              "ticks": ""
             }
            },
            "type": "scattercarpet"
           }
          ],
          "scattergeo": [
           {
            "marker": {
             "colorbar": {
              "outlinewidth": 0,
              "ticks": ""
             }
            },
            "type": "scattergeo"
           }
          ],
          "scattergl": [
           {
            "marker": {
             "colorbar": {
              "outlinewidth": 0,
              "ticks": ""
             }
            },
            "type": "scattergl"
           }
          ],
          "scattermap": [
           {
            "marker": {
             "colorbar": {
              "outlinewidth": 0,
              "ticks": ""
             }
            },
            "type": "scattermap"
           }
          ],
          "scattermapbox": [
           {
            "marker": {
             "colorbar": {
              "outlinewidth": 0,
              "ticks": ""
             }
            },
            "type": "scattermapbox"
           }
          ],
          "scatterpolar": [
           {
            "marker": {
             "colorbar": {
              "outlinewidth": 0,
              "ticks": ""
             }
            },
            "type": "scatterpolar"
           }
          ],
          "scatterpolargl": [
           {
            "marker": {
             "colorbar": {
              "outlinewidth": 0,
              "ticks": ""
             }
            },
            "type": "scatterpolargl"
           }
          ],
          "scatterternary": [
           {
            "marker": {
             "colorbar": {
              "outlinewidth": 0,
              "ticks": ""
             }
            },
            "type": "scatterternary"
           }
          ],
          "surface": [
           {
            "colorbar": {
             "outlinewidth": 0,
             "ticks": ""
            },
            "colorscale": [
             [
              0,
              "#0d0887"
             ],
             [
              0.1111111111111111,
              "#46039f"
             ],
             [
              0.2222222222222222,
              "#7201a8"
             ],
             [
              0.3333333333333333,
              "#9c179e"
             ],
             [
              0.4444444444444444,
              "#bd3786"
             ],
             [
              0.5555555555555556,
              "#d8576b"
             ],
             [
              0.6666666666666666,
              "#ed7953"
             ],
             [
              0.7777777777777778,
              "#fb9f3a"
             ],
             [
              0.8888888888888888,
              "#fdca26"
             ],
             [
              1,
              "#f0f921"
             ]
            ],
            "type": "surface"
           }
          ],
          "table": [
           {
            "cells": {
             "fill": {
              "color": "#EBF0F8"
             },
             "line": {
              "color": "white"
             }
            },
            "header": {
             "fill": {
              "color": "#C8D4E3"
             },
             "line": {
              "color": "white"
             }
            },
            "type": "table"
           }
          ]
         },
         "layout": {
          "annotationdefaults": {
           "arrowcolor": "#2a3f5f",
           "arrowhead": 0,
           "arrowwidth": 1
          },
          "autotypenumbers": "strict",
          "coloraxis": {
           "colorbar": {
            "outlinewidth": 0,
            "ticks": ""
           }
          },
          "colorscale": {
           "diverging": [
            [
             0,
             "#8e0152"
            ],
            [
             0.1,
             "#c51b7d"
            ],
            [
             0.2,
             "#de77ae"
            ],
            [
             0.3,
             "#f1b6da"
            ],
            [
             0.4,
             "#fde0ef"
            ],
            [
             0.5,
             "#f7f7f7"
            ],
            [
             0.6,
             "#e6f5d0"
            ],
            [
             0.7,
             "#b8e186"
            ],
            [
             0.8,
             "#7fbc41"
            ],
            [
             0.9,
             "#4d9221"
            ],
            [
             1,
             "#276419"
            ]
           ],
           "sequential": [
            [
             0,
             "#0d0887"
            ],
            [
             0.1111111111111111,
             "#46039f"
            ],
            [
             0.2222222222222222,
             "#7201a8"
            ],
            [
             0.3333333333333333,
             "#9c179e"
            ],
            [
             0.4444444444444444,
             "#bd3786"
            ],
            [
             0.5555555555555556,
             "#d8576b"
            ],
            [
             0.6666666666666666,
             "#ed7953"
            ],
            [
             0.7777777777777778,
             "#fb9f3a"
            ],
            [
             0.8888888888888888,
             "#fdca26"
            ],
            [
             1,
             "#f0f921"
            ]
           ],
           "sequentialminus": [
            [
             0,
             "#0d0887"
            ],
            [
             0.1111111111111111,
             "#46039f"
            ],
            [
             0.2222222222222222,
             "#7201a8"
            ],
            [
             0.3333333333333333,
             "#9c179e"
            ],
            [
             0.4444444444444444,
             "#bd3786"
            ],
            [
             0.5555555555555556,
             "#d8576b"
            ],
            [
             0.6666666666666666,
             "#ed7953"
            ],
            [
             0.7777777777777778,
             "#fb9f3a"
            ],
            [
             0.8888888888888888,
             "#fdca26"
            ],
            [
             1,
             "#f0f921"
            ]
           ]
          },
          "colorway": [
           "#636efa",
           "#EF553B",
           "#00cc96",
           "#ab63fa",
           "#FFA15A",
           "#19d3f3",
           "#FF6692",
           "#B6E880",
           "#FF97FF",
           "#FECB52"
          ],
          "font": {
           "color": "#2a3f5f"
          },
          "geo": {
           "bgcolor": "white",
           "lakecolor": "white",
           "landcolor": "#E5ECF6",
           "showlakes": true,
           "showland": true,
           "subunitcolor": "white"
          },
          "hoverlabel": {
           "align": "left"
          },
          "hovermode": "closest",
          "mapbox": {
           "style": "light"
          },
          "paper_bgcolor": "white",
          "plot_bgcolor": "#E5ECF6",
          "polar": {
           "angularaxis": {
            "gridcolor": "white",
            "linecolor": "white",
            "ticks": ""
           },
           "bgcolor": "#E5ECF6",
           "radialaxis": {
            "gridcolor": "white",
            "linecolor": "white",
            "ticks": ""
           }
          },
          "scene": {
           "xaxis": {
            "backgroundcolor": "#E5ECF6",
            "gridcolor": "white",
            "gridwidth": 2,
            "linecolor": "white",
            "showbackground": true,
            "ticks": "",
            "zerolinecolor": "white"
           },
           "yaxis": {
            "backgroundcolor": "#E5ECF6",
            "gridcolor": "white",
            "gridwidth": 2,
            "linecolor": "white",
            "showbackground": true,
            "ticks": "",
            "zerolinecolor": "white"
           },
           "zaxis": {
            "backgroundcolor": "#E5ECF6",
            "gridcolor": "white",
            "gridwidth": 2,
            "linecolor": "white",
            "showbackground": true,
            "ticks": "",
            "zerolinecolor": "white"
           }
          },
          "shapedefaults": {
           "line": {
            "color": "#2a3f5f"
           }
          },
          "ternary": {
           "aaxis": {
            "gridcolor": "white",
            "linecolor": "white",
            "ticks": ""
           },
           "baxis": {
            "gridcolor": "white",
            "linecolor": "white",
            "ticks": ""
           },
           "bgcolor": "#E5ECF6",
           "caxis": {
            "gridcolor": "white",
            "linecolor": "white",
            "ticks": ""
           }
          },
          "title": {
           "x": 0.05
          },
          "xaxis": {
           "automargin": true,
           "gridcolor": "white",
           "linecolor": "white",
           "ticks": "",
           "title": {
            "standoff": 15
           },
           "zerolinecolor": "white",
           "zerolinewidth": 2
          },
          "yaxis": {
           "automargin": true,
           "gridcolor": "white",
           "linecolor": "white",
           "ticks": "",
           "title": {
            "standoff": 15
           },
           "zerolinecolor": "white",
           "zerolinewidth": 2
          }
         }
        },
        "xaxis": {
         "rangeslider": {
          "visible": false
         }
        }
       }
      }
     },
     "metadata": {},
     "output_type": "display_data"
    }
   ],
   "source": [
    "dfpl = df[600:1000]\n",
    "fig = go.Figure(data=[go.Candlestick(x=dfpl.index,\n",
    "                open=dfpl['open'],\n",
    "                high=dfpl['high'],\n",
    "                low=dfpl['low'],\n",
    "                close=dfpl['close'])])\n",
    "\n",
    "fig.add_scatter(x=dfpl.index, y=dfpl['point_position'], mode=\"markers\",\n",
    "                marker=dict(size=5, color=\"MediumPurple\"),\n",
    "                name=\"pivot\")\n",
    "fig.update_layout(xaxis_rangeslider_visible=False)\n",
    "fig.show()"
   ]
  },
  {
   "cell_type": "code",
   "execution_count": 37,
   "id": "84b42e55",
   "metadata": {},
   "outputs": [],
   "source": [
    "def detect_structure(candle, backcandles, window):\n",
    "    \"\"\"\n",
    "    Attention! window should always be greater than the pivot window! to avoid look ahead bias\n",
    "    \"\"\"\n",
    "    localdf = df[candle-backcandles-window:candle-window]  \n",
    "    highs = localdf[localdf['isPivot'] == 1].high.tail(3).values\n",
    "    idxhighs = localdf[localdf['isPivot'] == 1].high.tail(3).index\n",
    "    lows = localdf[localdf['isPivot'] == 2].low.tail(3).values\n",
    "    idxlows = localdf[localdf['isPivot'] == 2].low.tail(3).index\n",
    "\n",
    "    pattern_detected = False\n",
    "\n",
    "    lim1 = 0.005\n",
    "    lim2 = lim1/3\n",
    "    if len(highs) == 3 and len(lows) == 3:\n",
    "        order_condition = (idxlows[0] < idxhighs[0] \n",
    "                           < idxlows[1] < idxhighs[1] \n",
    "                           < idxlows[2] < idxhighs[2])\n",
    "        diff_condition = ( \n",
    "                            abs(lows[0]-highs[0])>lim1 and \n",
    "                            abs(highs[0]-lows[1])>lim2 and\n",
    "                            abs(highs[1]-lows[1])>lim1 and\n",
    "                            abs(highs[1]-lows[2])>lim2\n",
    "                            )\n",
    "        pattern_1 = (lows[0] < highs[0] and\n",
    "            lows[1] > lows[0] and lows[1] < highs[0] and\n",
    "            highs[1] > highs[0] and\n",
    "            lows[2] > lows[1] and lows[2] < highs[1] and\n",
    "            highs[2] < highs[1] and highs[2] > lows[2]\n",
    "            )\n",
    "\n",
    "        pattern_2 = (lows[0] < highs[0] and\n",
    "            lows[1] > lows[0] and lows[1] < highs[0] and\n",
    "            highs[1] > highs[0] and\n",
    "            lows[2] < lows[1] and\n",
    "            highs[2] < highs[1] \n",
    "            )\n",
    "\n",
    "        if (order_condition and\n",
    "            diff_condition and\n",
    "            (pattern_1 or pattern_2)\n",
    "        ):\n",
    "            pattern_detected = True\n",
    "\n",
    "    if pattern_detected:\n",
    "        return 1\n",
    "    else:\n",
    "        return 0"
   ]
  },
  {
   "cell_type": "code",
   "execution_count": 46,
   "id": "19878fbe",
   "metadata": {},
   "outputs": [],
   "source": [
    "df['pattern_detected'] = df.index.map(lambda x: detect_structure(x, backcandles=40, window=16))\n"
   ]
  },
  {
   "cell_type": "code",
   "execution_count": 47,
   "id": "774a07fd",
   "metadata": {},
   "outputs": [
    {
     "data": {
      "text/html": [
       "<div>\n",
       "<style scoped>\n",
       "    .dataframe tbody tr th:only-of-type {\n",
       "        vertical-align: middle;\n",
       "    }\n",
       "\n",
       "    .dataframe tbody tr th {\n",
       "        vertical-align: top;\n",
       "    }\n",
       "\n",
       "    .dataframe thead th {\n",
       "        text-align: right;\n",
       "    }\n",
       "</style>\n",
       "<table border=\"1\" class=\"dataframe\">\n",
       "  <thead>\n",
       "    <tr style=\"text-align: right;\">\n",
       "      <th></th>\n",
       "      <th>Gmt time</th>\n",
       "      <th>open</th>\n",
       "      <th>high</th>\n",
       "      <th>low</th>\n",
       "      <th>close</th>\n",
       "      <th>volume</th>\n",
       "      <th>RSI</th>\n",
       "      <th>EMA</th>\n",
       "      <th>ema_signal</th>\n",
       "      <th>isPivot</th>\n",
       "      <th>point_position</th>\n",
       "      <th>pattern_detected</th>\n",
       "    </tr>\n",
       "  </thead>\n",
       "  <tbody>\n",
       "  </tbody>\n",
       "</table>\n",
       "</div>"
      ],
      "text/plain": [
       "Empty DataFrame\n",
       "Columns: [Gmt time, open, high, low, close, volume, RSI, EMA, ema_signal, isPivot, point_position, pattern_detected]\n",
       "Index: []"
      ]
     },
     "execution_count": 47,
     "metadata": {},
     "output_type": "execute_result"
    }
   ],
   "source": [
    "df[df['pattern_detected']!=0]\n"
   ]
  }
 ],
 "metadata": {
  "kernelspec": {
   "display_name": "Python 3",
   "language": "python",
   "name": "python3"
  },
  "language_info": {
   "codemirror_mode": {
    "name": "ipython",
    "version": 3
   },
   "file_extension": ".py",
   "mimetype": "text/x-python",
   "name": "python",
   "nbconvert_exporter": "python",
   "pygments_lexer": "ipython3",
   "version": "3.11.8"
  }
 },
 "nbformat": 4,
 "nbformat_minor": 5
}
